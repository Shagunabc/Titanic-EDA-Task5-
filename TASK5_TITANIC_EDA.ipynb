{
 "cells": [
  {
   "cell_type": "markdown",
   "id": "b06ebc31",
   "metadata": {},
   "source": [
    "# Titanic Dataset - Exploratory Data Analysis"
   ]
  },
  {
   "cell_type": "code",
   "execution_count": null,
   "id": "85ae32d0",
   "metadata": {},
   "outputs": [],
   "source": [
    "\n",
    "# Exploratory Data Analysis on Titanic Dataset\n",
    "\n",
    "!pip install  matplotlib.pyplot\n",
    "import pandas as pd # type: ignore\n",
    "import seaborn as sns # type: ignore\n",
    "import matplotlib.pyplot as plt # type: ignore\n",
    "\n",
    "# Load Dataset\n",
    "titanic = pd.read_csv('titanic.csv')\n",
    "print(titanic.head())\n",
    "\n",
    "# Basic Information\n",
    "print(titanic.info())\n",
    "print(titanic.describe())\n",
    "\n",
    "# Univariate Analysis\n",
    "sns.histplot(titanic['age'], kde=True)\n",
    "plt.title('Age Distribution')\n",
    "plt.show()\n",
    "\n",
    "sns.histplot(titanic['fare'], kde=True)\n",
    "plt.title('Fare Distribution')\n",
    "plt.show()\n",
    "\n",
    "sns.countplot(x='sex', data=titanic)\n",
    "plt.title('Gender Count')\n",
    "plt.show()\n",
    "\n",
    "sns.countplot(x='survived', data=titanic)\n",
    "plt.title('Survival Count')\n",
    "plt.show()\n",
    "\n",
    "# Bivariate Analysis\n",
    "sns.countplot(x='sex', hue='survived', data=titanic)\n",
    "plt.title('Survival by Gender')\n",
    "plt.show()\n",
    "\n",
    "sns.scatterplot(x='age', y='fare', hue='survived', data=titanic)\n",
    "plt.title('Age vs Fare colored by Survival')\n",
    "plt.show()\n",
    "\n",
    "# Correlation Heatmap\n",
    "sns.heatmap(titanic.corr(), annot=True, cmap='coolwarm')\n",
    "plt.title('Correlation Heatmap')\n",
    "plt.show()\n",
    "\n",
    "# Pairplot\n",
    "sns.pairplot(titanic, hue='survived')\n",
    "plt.show()\n"
   ]
  }
 ],
 "metadata": {
  "language_info": {
   "name": "python"
  }
 },
 "nbformat": 4,
 "nbformat_minor": 5
}
